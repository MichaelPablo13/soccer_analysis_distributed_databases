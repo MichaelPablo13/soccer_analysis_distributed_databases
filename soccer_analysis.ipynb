{
  "nbformat": 4,
  "nbformat_minor": 0,
  "metadata": {
    "colab": {
      "provenance": [],
      "toc_visible": true,
      "authorship_tag": "ABX9TyNtrAxVCSIqqBi6dNYZ7dwA",
      "include_colab_link": true
    },
    "kernelspec": {
      "name": "python3",
      "display_name": "Python 3"
    },
    "language_info": {
      "name": "python"
    }
  },
  "cells": [
    {
      "cell_type": "markdown",
      "metadata": {
        "id": "view-in-github",
        "colab_type": "text"
      },
      "source": [
        "<a href=\"https://colab.research.google.com/github/MichaelPablo13/soccer_analysis_distributed_databases/blob/main/soccer_analysis.ipynb\" target=\"_parent\"><img src=\"https://colab.research.google.com/assets/colab-badge.svg\" alt=\"Open In Colab\"/></a>"
      ]
    },
    {
      "cell_type": "code",
      "execution_count": 16,
      "metadata": {
        "colab": {
          "base_uri": "https://localhost:8080/"
        },
        "id": "IJS7Li5OIwGv",
        "outputId": "fd01309b-c2a4-4e7a-dfc1-3643048ced58"
      },
      "outputs": [
        {
          "output_type": "stream",
          "name": "stdout",
          "text": [
            "+-------+---+\n",
            "|   name| id|\n",
            "+-------+---+\n",
            "|Michael|  1|\n",
            "|Copilot|  2|\n",
            "+-------+---+\n",
            "\n"
          ]
        }
      ],
      "source": [
        "from pyspark.sql import SparkSession\n",
        "from pyspark.sql.functions import col, when, count\n",
        "\n",
        "# Start Spark\n",
        "spark = SparkSession.builder \\\n",
        "    .appName(\"QuickTest\") \\\n",
        "    .master(\"local[*]\") \\\n",
        "    .getOrCreate()\n",
        "\n",
        "# Create a simple DataFrame\n",
        "data = [(\"Michael\", 1), (\"Copilot\", 2)]\n",
        "df = spark.createDataFrame(data, [\"name\", \"id\"])\n",
        "\n",
        "# Show the DataFrame\n",
        "df.show()"
      ]
    },
    {
      "cell_type": "code",
      "source": [
        "csv_path = \"/content/results(3).csv\"\n",
        "df = spark.read.csv(csv_path, header=True, inferSchema=True)\n",
        "df.show()\n",
        "df.describe().show()"
      ],
      "metadata": {
        "id": "zltSTUAcJJhx",
        "colab": {
          "base_uri": "https://localhost:8080/"
        },
        "outputId": "77462375-a9c5-4d94-b9d5-ea0c4c4d182f"
      },
      "execution_count": 18,
      "outputs": [
        {
          "output_type": "stream",
          "name": "stdout",
          "text": [
            "+----------+----------------+-------------+--------------+--------------+--------------+---------+-------------------+-----------+\n",
            "|      date|   home_teamName|away_teamName|home_scoreHome|away_scoreAway|tournamentName| cityCity|     countryCountry|neutralTRUE|\n",
            "+----------+----------------+-------------+--------------+--------------+--------------+---------+-------------------+-----------+\n",
            "|1872-11-30|        Scotland|      England|             0|             0|      Friendly|  Glasgow|           Scotland|      false|\n",
            "|1873-03-08|         England|     Scotland|             4|             2|      Friendly|   London|            England|      false|\n",
            "|1874-03-07|        Scotland|      England|             2|             1|      Friendly|  Glasgow|           Scotland|      false|\n",
            "|1875-03-06|         England|     Scotland|             2|             2|      Friendly|   London|            England|      false|\n",
            "|1876-03-04|        Scotland|      England|             3|             0|      Friendly|  Glasgow|           Scotland|      false|\n",
            "|1876-03-25|        Scotland|        Wales|             4|             0|      Friendly|  Glasgow|           Scotland|      false|\n",
            "|1877-03-03|         England|     Scotland|             1|             3|      Friendly|   London|            England|      false|\n",
            "|1877-03-05|           Wales|     Scotland|             0|             2|      Friendly|  Wrexham|              Wales|      false|\n",
            "|1878-03-02|        Scotland|      England|             7|             2|      Friendly|  Glasgow|           Scotland|      false|\n",
            "|1878-03-23|        Scotland|        Wales|             9|             0|      Friendly|  Glasgow|           Scotland|      false|\n",
            "|1879-01-18|         England|        Wales|             2|             1|      Friendly|   London|            England|      false|\n",
            "|1879-04-05|         England|     Scotland|             5|             4|      Friendly|   London|            England|      false|\n",
            "|1879-04-07|           Wales|     Scotland|             0|             3|      Friendly|  Wrexham|              Wales|      false|\n",
            "|1880-03-13|        Scotland|      England|             5|             4|      Friendly|  Glasgow|           Scotland|      false|\n",
            "|1880-03-15|           Wales|      England|             2|             3|      Friendly|  Wrexham|              Wales|      false|\n",
            "|1880-03-27|        Scotland|        Wales|             5|             1|      Friendly|  Glasgow|           Scotland|      false|\n",
            "|1881-02-26|         England|        Wales|             0|             1|      Friendly|Blackburn|            England|      false|\n",
            "|1881-03-12|         England|     Scotland|             1|             6|      Friendly|   London|            England|      false|\n",
            "|1881-03-14|           Wales|     Scotland|             1|             5|      Friendly|  Wrexham|              Wales|      false|\n",
            "|1882-02-18|Northern Ireland|      England|             0|            13|      Friendly|  Belfast|Republic of Ireland|      false|\n",
            "+----------+----------------+-------------+--------------+--------------+--------------+---------+-------------------+-----------+\n",
            "only showing top 20 rows\n",
            "\n",
            "+-------+-------------+-------------+------------------+------------------+---------------+-------------------+--------------+\n",
            "|summary|home_teamName|away_teamName|    home_scoreHome|    away_scoreAway| tournamentName|           cityCity|countryCountry|\n",
            "+-------+-------------+-------------+------------------+------------------+---------------+-------------------+--------------+\n",
            "|  count|        40839|        40839|             40839|             40839|          40839|              40839|         40839|\n",
            "|   mean|         NULL|         NULL|1.7457087587844953| 1.188104507945836|           NULL|               NULL|          NULL|\n",
            "| stddev|         NULL|         NULL| 1.749144918253105|1.4051198000976632|           NULL|               NULL|          NULL|\n",
            "|    min|     Abkhazia|     Abkhazia|                 0|                 0|ABCS Tournament|6th of October City|   Afghanistan|\n",
            "|    max|Åland Islands|Åland Islands|                31|                21|World Unity Cup|             ‘Atele|          Éire|\n",
            "+-------+-------------+-------------+------------------+------------------+---------------+-------------------+--------------+\n",
            "\n"
          ]
        }
      ]
    },
    {
      "cell_type": "code",
      "source": [
        "# Total Matches Played\n",
        "total_matches = df.count()\n",
        "print(f\"Total Matches Played: {total_matches}\")"
      ],
      "metadata": {
        "colab": {
          "base_uri": "https://localhost:8080/"
        },
        "id": "_LB0Vs3LWyAc",
        "outputId": "85aeb5e2-6a4f-4ba9-9a52-daa8a01fbbad"
      },
      "execution_count": 19,
      "outputs": [
        {
          "output_type": "stream",
          "name": "stdout",
          "text": [
            "Total Matches Played: 40839\n"
          ]
        }
      ]
    },
    {
      "cell_type": "code",
      "source": [
        "# Total Goals Scored by Each Team\n",
        "\n",
        "home_goals = df.groupBy(\"home_teamName\").sum(\"home_scoreHome\").withColumnRenamed(\"sum(home_scoreHome)\", \"total_home_goals\")\n",
        "away_goals = df.groupBy(\"away_teamName\").sum(\"away_scoreAway\").withColumnRenamed(\"sum(away_scoreAway)\", \"total_away_goals\")\n",
        "\n",
        "total_goals = home_goals.join(away_goals, home_goals[\"home_teamName\"] == away_goals[\"away_teamName\"], \"outer\") \\\n",
        "  .fillna(0) \\\n",
        "  .withColumn(\"total_goals\", col(\"total_home_goals\") + col(\"total_away_goals\")) \\\n",
        "  .select(\"home_teamName\", \"total_goals\").orderBy(col(\"total_goals\").desc())\n",
        "\n",
        "total_goals.show()"
      ],
      "metadata": {
        "colab": {
          "base_uri": "https://localhost:8080/"
        },
        "id": "AMEIIeDxXQqI",
        "outputId": "e1fa3590-55ea-405b-b895-cc2f5a054f5c"
      },
      "execution_count": 26,
      "outputs": [
        {
          "output_type": "stream",
          "name": "stdout",
          "text": [
            "+-------------+-----------+\n",
            "|home_teamName|total_goals|\n",
            "+-------------+-----------+\n",
            "|      England|       2169|\n",
            "|       Brazil|       2144|\n",
            "|      Germany|       2104|\n",
            "|       Sweden|       1998|\n",
            "|      Hungary|       1882|\n",
            "|    Argentina|       1816|\n",
            "|  Netherlands|       1600|\n",
            "|       Mexico|       1496|\n",
            "|  South Korea|       1496|\n",
            "|       France|       1480|\n",
            "|      Denmark|       1398|\n",
            "|      Uruguay|       1382|\n",
            "|        Spain|       1380|\n",
            "|      Austria|       1370|\n",
            "|       Poland|       1361|\n",
            "|        Italy|       1349|\n",
            "|     Scotland|       1333|\n",
            "|      Belgium|       1327|\n",
            "|       Norway|       1198|\n",
            "|       Russia|       1181|\n",
            "+-------------+-----------+\n",
            "only showing top 20 rows\n",
            "\n"
          ]
        }
      ]
    },
    {
      "cell_type": "code",
      "source": [],
      "metadata": {
        "id": "eaT0gN9dfoUn"
      },
      "execution_count": null,
      "outputs": []
    },
    {
      "cell_type": "markdown",
      "metadata": {
        "id": "415e8055"
      },
      "source": [
        "# Task\n",
        "Analyze the dataset to answer the following questions: 1- How many records are in the database? 2- How many unique home teams are there? 3- How many times did the home teams win? 4- How many times did the away teams win? 5- How many matches resulted in a draw? 6- How many matches were played in each country? 7- Which country had the most matches? 8- Which match had the highest number of goals? 9- What was the biggest rout? 10- How many games occurred in Brazil?"
      ]
    },
    {
      "cell_type": "markdown",
      "metadata": {
        "id": "625bc394"
      },
      "source": [
        "## Total records\n",
        "\n",
        "### Subtask:\n",
        "Calculate and display the total number of records in the DataFrame.\n"
      ]
    },
    {
      "cell_type": "markdown",
      "metadata": {
        "id": "1b6b0f65"
      },
      "source": [
        "**Reasoning**:\n",
        "The subtask is to calculate and display the total number of records in the DataFrame. The `count()` method is suitable for this purpose.\n",
        "\n"
      ]
    },
    {
      "cell_type": "code",
      "metadata": {
        "colab": {
          "base_uri": "https://localhost:8080/"
        },
        "id": "f125242b",
        "outputId": "763a87a9-b8d4-43d4-994c-5173e496231c"
      },
      "source": [
        "# Calculate the total number of records\n",
        "total_records = df.count()\n",
        "\n",
        "# Print the total number of records\n",
        "print(f\"Total number of records: {total_records}\")"
      ],
      "execution_count": 27,
      "outputs": [
        {
          "output_type": "stream",
          "name": "stdout",
          "text": [
            "Total number of records: 40839\n"
          ]
        }
      ]
    },
    {
      "cell_type": "markdown",
      "metadata": {
        "id": "5f47b228"
      },
      "source": [
        "## Unique home teams\n",
        "\n",
        "### Subtask:\n",
        "Find and display the count of unique home teams.\n"
      ]
    },
    {
      "cell_type": "markdown",
      "metadata": {
        "id": "49ecef5a"
      },
      "source": [
        "**Reasoning**:\n",
        "Select the home_teamName column, get distinct values, count them, and print the result.\n",
        "\n"
      ]
    },
    {
      "cell_type": "code",
      "metadata": {
        "colab": {
          "base_uri": "https://localhost:8080/"
        },
        "id": "ae056536",
        "outputId": "94e6ab6b-0a82-4c93-a2ff-568864c6efd5"
      },
      "source": [
        "# Select the home_teamName column, get distinct values, and count them\n",
        "unique_home_teams_count = df.select(\"home_teamName\").distinct().count()\n",
        "\n",
        "# Print the count of unique home teams\n",
        "print(f\"Number of unique home teams: {unique_home_teams_count}\")"
      ],
      "execution_count": 28,
      "outputs": [
        {
          "output_type": "stream",
          "name": "stdout",
          "text": [
            "Number of unique home teams: 309\n"
          ]
        }
      ]
    },
    {
      "cell_type": "markdown",
      "metadata": {
        "id": "b71ad229"
      },
      "source": [
        "## Home team wins\n",
        "\n",
        "### Subtask:\n",
        "Calculate and display the number of matches where the home team won.\n"
      ]
    },
    {
      "cell_type": "markdown",
      "metadata": {
        "id": "0edfba69"
      },
      "source": [
        "**Reasoning**:\n",
        "Filter the DataFrame to find matches where the home team won and then count the results.\n",
        "\n"
      ]
    },
    {
      "cell_type": "code",
      "metadata": {
        "colab": {
          "base_uri": "https://localhost:8080/"
        },
        "id": "a5f89e23",
        "outputId": "4a05470e-a2d6-43c7-9739-8e9bd157dddb"
      },
      "source": [
        "home_wins_df = df.filter(df.home_scoreHome > df.away_scoreAway)\n",
        "home_wins_count = home_wins_df.count()\n",
        "print(f\"Number of home team wins: {home_wins_count}\")"
      ],
      "execution_count": 29,
      "outputs": [
        {
          "output_type": "stream",
          "name": "stdout",
          "text": [
            "Number of home team wins: 19864\n"
          ]
        }
      ]
    },
    {
      "cell_type": "markdown",
      "metadata": {
        "id": "57b934eb"
      },
      "source": [
        "## Away team wins\n",
        "\n",
        "### Subtask:\n",
        "Calculate and display the number of matches where the away team won.\n"
      ]
    },
    {
      "cell_type": "markdown",
      "metadata": {
        "id": "26d5bb71"
      },
      "source": [
        "**Reasoning**:\n",
        "Filter the DataFrame to find matches where the away team won and then count the results.\n",
        "\n"
      ]
    },
    {
      "cell_type": "code",
      "metadata": {
        "colab": {
          "base_uri": "https://localhost:8080/"
        },
        "id": "1e7b9226",
        "outputId": "fb220155-f36c-4adf-a8f0-b79382d47eda"
      },
      "source": [
        "away_wins_df = df.filter(df.away_scoreAway > df.home_scoreHome)\n",
        "away_wins_count = away_wins_df.count()\n",
        "print(f\"Number of away team wins: {away_wins_count}\")"
      ],
      "execution_count": 30,
      "outputs": [
        {
          "output_type": "stream",
          "name": "stdout",
          "text": [
            "Number of away team wins: 11544\n"
          ]
        }
      ]
    },
    {
      "cell_type": "markdown",
      "metadata": {
        "id": "4f412501"
      },
      "source": [
        "## Draws\n",
        "\n",
        "### Subtask:\n",
        "Calculate and display the number of matches that ended in a draw.\n"
      ]
    },
    {
      "cell_type": "markdown",
      "metadata": {
        "id": "a670e341"
      },
      "source": [
        "**Reasoning**:\n",
        "Filter the DataFrame to find matches where the scores are equal and then count the resulting rows to get the number of draws.\n",
        "\n"
      ]
    },
    {
      "cell_type": "code",
      "metadata": {
        "colab": {
          "base_uri": "https://localhost:8080/"
        },
        "id": "b4662b9c",
        "outputId": "723f5a40-aadf-4056-ca35-1d9420f610b8"
      },
      "source": [
        "# Filter for draws (home_scoreHome == away_scoreAway)\n",
        "draws_df = df.filter(df.home_scoreHome == df.away_scoreAway)\n",
        "\n",
        "# Count the number of draws\n",
        "draws_count = draws_df.count()\n",
        "\n",
        "# Print the number of draws\n",
        "print(f\"Number of draws: {draws_count}\")"
      ],
      "execution_count": 31,
      "outputs": [
        {
          "output_type": "stream",
          "name": "stdout",
          "text": [
            "Number of draws: 9431\n"
          ]
        }
      ]
    },
    {
      "cell_type": "markdown",
      "metadata": {
        "id": "34aa76e2"
      },
      "source": [
        "## Matches per country\n",
        "\n",
        "### Subtask:\n",
        "Group the data by country and count the number of matches in each country.\n"
      ]
    },
    {
      "cell_type": "markdown",
      "metadata": {
        "id": "3ebfd4d2"
      },
      "source": [
        "**Reasoning**:\n",
        "Group the data by country and count the number of matches in each country, then display the first few rows.\n",
        "\n"
      ]
    },
    {
      "cell_type": "code",
      "metadata": {
        "colab": {
          "base_uri": "https://localhost:8080/"
        },
        "id": "8bf8dca1",
        "outputId": "bf18dee3-6617-42f2-fe9c-ca5f1b0d82a4"
      },
      "source": [
        "from pyspark.sql.functions import col, when, count, desc\n",
        "\n",
        "matches_per_country_df = df.groupBy(\"countryCountry\").count().withColumnRenamed(\"count\", \"number_of_matches\")\n",
        "matches_per_country_df.orderBy(desc(\"number_of_matches\")).show()"
      ],
      "execution_count": 35,
      "outputs": [
        {
          "output_type": "stream",
          "name": "stdout",
          "text": [
            "+--------------------+-----------------+\n",
            "|      countryCountry|number_of_matches|\n",
            "+--------------------+-----------------+\n",
            "|       United States|             1144|\n",
            "|              France|              801|\n",
            "|             England|              687|\n",
            "|            Malaysia|              644|\n",
            "|              Sweden|              637|\n",
            "|             Germany|              581|\n",
            "|              Brazil|              529|\n",
            "|               Spain|              517|\n",
            "|            Thailand|              483|\n",
            "|               Italy|              480|\n",
            "|         Switzerland|              477|\n",
            "|             Austria|              475|\n",
            "|United Arab Emirates|              472|\n",
            "|        South Africa|              470|\n",
            "|               Qatar|              467|\n",
            "|         South Korea|              453|\n",
            "|           Argentina|              449|\n",
            "|             Hungary|              431|\n",
            "|               Chile|              405|\n",
            "|             Belgium|              396|\n",
            "+--------------------+-----------------+\n",
            "only showing top 20 rows\n",
            "\n"
          ]
        }
      ]
    },
    {
      "cell_type": "markdown",
      "metadata": {
        "id": "55d56b13"
      },
      "source": [
        "## Matches in Brazil\n",
        "\n",
        "### Subtask:\n",
        "Filter the dataset for matches played in Brazil and count them."
      ]
    },
    {
      "cell_type": "markdown",
      "metadata": {
        "id": "1c0a2fb7"
      },
      "source": [
        "**Reasoning**:\n",
        "Filter the DataFrame to include only matches where the country is Brazil and then count the resulting rows to find the number of games played in Brazil."
      ]
    },
    {
      "cell_type": "code",
      "metadata": {
        "colab": {
          "base_uri": "https://localhost:8080/"
        },
        "id": "a474b387",
        "outputId": "345f29f2-9a38-48cb-d942-a169fbb01c82"
      },
      "source": [
        "# Filter the DataFrame for matches played in Brazil\n",
        "matches_in_brazil_df = df.filter(df.countryCountry == \"Brazil\")\n",
        "\n",
        "# Count the number of matches played in Brazil\n",
        "matches_in_brazil_count = matches_in_brazil_df.count()\n",
        "\n",
        "# Print the number of matches played in Brazil\n",
        "print(f\"Number of matches played in Brazil: {matches_in_brazil_count}\")"
      ],
      "execution_count": 39,
      "outputs": [
        {
          "output_type": "stream",
          "name": "stdout",
          "text": [
            "Number of matches played in Brazil: 529\n"
          ]
        }
      ]
    },
    {
      "cell_type": "markdown",
      "metadata": {
        "id": "aa96c32c"
      },
      "source": [
        "## Largest Goal Difference\n",
        "\n",
        "### Subtask:\n",
        "Calculate and display the match with the largest goal difference."
      ]
    },
    {
      "cell_type": "markdown",
      "metadata": {
        "id": "b933d73d"
      },
      "source": [
        "**Reasoning**:\n",
        "Calculate the absolute difference between home and away scores for each match, order the matches by this goal difference in descending order, and select the top match to find the largest rout."
      ]
    },
    {
      "cell_type": "code",
      "metadata": {
        "colab": {
          "base_uri": "https://localhost:8080/"
        },
        "id": "e6c13314",
        "outputId": "aa7b108e-e08b-475f-dd97-6e0a8d408901"
      },
      "source": [
        "from pyspark.sql.functions import abs as spark_abs\n",
        "\n",
        "# Calculate the goal difference for each match\n",
        "df_with_goal_difference = df.withColumn(\"goal_difference\", spark_abs(col(\"home_scoreHome\") - col(\"away_scoreAway\")))\n",
        "\n",
        "# Find the match with the largest goal difference\n",
        "largest_rout = df_with_goal_difference.orderBy(desc(\"goal_difference\")).first()\n",
        "\n",
        "# Print the match with the largest goal difference\n",
        "print(\"Largest Rout:\")\n",
        "print(f\"Date: {largest_rout['date']}\")\n",
        "print(f\"Home Team: {largest_rout['home_teamName']}\")\n",
        "print(f\"Away Team: {largest_rout['away_teamName']}\")\n",
        "print(f\"Home Score: {largest_rout['home_scoreHome']}\")\n",
        "print(f\"Away Score: {largest_rout['away_scoreAway']}\")\n",
        "print(f\"Goal Difference: {largest_rout['goal_difference']}\")\n",
        "print(f\"Tournament: {largest_rout['tournamentName']}\")\n",
        "print(f\"City: {largest_rout['cityCity']}\")\n",
        "print(f\"Country: {largest_rout['countryCountry']}\")"
      ],
      "execution_count": 38,
      "outputs": [
        {
          "output_type": "stream",
          "name": "stdout",
          "text": [
            "Largest Rout:\n",
            "Date: 2001-04-11\n",
            "Home Team: Australia\n",
            "Away Team: American Samoa\n",
            "Home Score: 31\n",
            "Away Score: 0\n",
            "Goal Difference: 31\n",
            "Tournament: FIFA World Cup qualification\n",
            "City: Coffs Harbour\n",
            "Country: Australia\n"
          ]
        }
      ]
    },
    {
      "cell_type": "markdown",
      "metadata": {
        "id": "1fdaffc8"
      },
      "source": [
        "## Match with most goals\n",
        "\n",
        "### Subtask:\n",
        "Find and display the match with the highest total goals."
      ]
    },
    {
      "cell_type": "markdown",
      "metadata": {
        "id": "991d34cb"
      },
      "source": [
        "**Reasoning**:\n",
        "Calculate the total goals for each match by summing the home and away scores, order the matches by the total goals in descending order, and select the top match to find the match with the most goals."
      ]
    },
    {
      "cell_type": "code",
      "metadata": {
        "colab": {
          "base_uri": "https://localhost:8080/"
        },
        "id": "35873abc",
        "outputId": "5577cd94-9245-44d1-e7ed-510e9fdb9628"
      },
      "source": [
        "# Calculate the total goals for each match\n",
        "df_with_total_goals = df.withColumn(\"total_goals\", col(\"home_scoreHome\") + col(\"away_scoreAway\"))\n",
        "\n",
        "# Find the match with the highest number of goals\n",
        "match_with_most_goals = df_with_total_goals.orderBy(desc(\"total_goals\")).first()\n",
        "\n",
        "# Print the match with the most goals\n",
        "print(\"Match with the most goals:\")\n",
        "print(f\"Date: {match_with_most_goals['date']}\")\n",
        "print(f\"Home Team: {match_with_most_goals['home_teamName']}\")\n",
        "print(f\"Away Team: {match_with_most_goals['away_teamName']}\")\n",
        "print(f\"Home Score: {match_with_most_goals['home_scoreHome']}\")\n",
        "print(f\"Away Score: {match_with_most_goals['away_scoreAway']}\")\n",
        "print(f\"Total Goals: {match_with_most_goals['total_goals']}\")\n",
        "print(f\"Tournament: {match_with_most_goals['tournamentName']}\")\n",
        "print(f\"City: {match_with_most_goals['cityCity']}\")\n",
        "print(f\"Country: {match_with_most_goals['countryCountry']}\")"
      ],
      "execution_count": 37,
      "outputs": [
        {
          "output_type": "stream",
          "name": "stdout",
          "text": [
            "Match with the most goals:\n",
            "Date: 2001-04-11\n",
            "Home Team: Australia\n",
            "Away Team: American Samoa\n",
            "Home Score: 31\n",
            "Away Score: 0\n",
            "Total Goals: 31\n",
            "Tournament: FIFA World Cup qualification\n",
            "City: Coffs Harbour\n",
            "Country: Australia\n"
          ]
        }
      ]
    },
    {
      "cell_type": "code",
      "metadata": {
        "colab": {
          "base_uri": "https://localhost:8080/"
        },
        "id": "e835e645",
        "outputId": "8154413c-1adc-40c1-b3a3-f67b70aac5b0"
      },
      "source": [
        "# Find the country with the most matches by taking the first row of the ordered DataFrame\n",
        "country_with_most_matches = matches_per_country_df.orderBy(desc(\"number_of_matches\")).first()\n",
        "\n",
        "# Print the country with the most matches\n",
        "print(f\"Country with the most matches: {country_with_most_matches['countryCountry']} ({country_with_most_matches['number_of_matches']} matches)\")"
      ],
      "execution_count": 36,
      "outputs": [
        {
          "output_type": "stream",
          "name": "stdout",
          "text": [
            "Country with the most matches: United States (1144 matches)\n"
          ]
        }
      ]
    },
    {
      "cell_type": "markdown",
      "metadata": {
        "id": "75ce8ce2"
      },
      "source": [
        "## Country with most matches\n",
        "\n",
        "### Subtask:\n",
        "Find and display the country with the highest number of matches.\n"
      ]
    },
    {
      "cell_type": "markdown",
      "metadata": {
        "id": "2b4558f0"
      },
      "source": [
        "**Reasoning**:\n",
        "Ordering the DataFrame by the number of matches in descending order and selecting the top row will give the country with the highest number of matches, which directly addresses the subtask.\n",
        "\n"
      ]
    },
    {
      "cell_type": "markdown",
      "metadata": {
        "id": "f63c7612"
      },
      "source": [
        "# Task\n",
        "Analyze the provided dataset to determine the team with the best goal difference."
      ]
    },
    {
      "cell_type": "markdown",
      "metadata": {
        "id": "37bf1a30"
      },
      "source": [
        "## Calculate home goal difference\n",
        "\n",
        "### Subtask:\n",
        "Calculate the goal difference for each team when playing at home.\n"
      ]
    },
    {
      "cell_type": "markdown",
      "metadata": {
        "id": "b42b5c3a"
      },
      "source": [
        "**Reasoning**:\n",
        "Calculate the goal difference for each team when playing at home by grouping by home team name, summing home scores and away scores, and subtracting the sums.\n",
        "\n"
      ]
    },
    {
      "cell_type": "code",
      "metadata": {
        "colab": {
          "base_uri": "https://localhost:8080/"
        },
        "id": "74be3093",
        "outputId": "4b122154-b651-4bba-c03f-6bb6820c6599"
      },
      "source": [
        "from pyspark.sql.functions import sum\n",
        "\n",
        "# Calculate the goal difference for each team when playing at home\n",
        "home_goal_difference_df = df.groupBy(\"home_teamName\") \\\n",
        "    .agg(sum(\"home_scoreHome\").alias(\"total_home_scores\"),\n",
        "         sum(\"away_scoreAway\").alias(\"total_away_scores\")) \\\n",
        "    .withColumn(\"home_goal_difference\", col(\"total_home_scores\") - col(\"total_away_scores\")) \\\n",
        "    .select(\"home_teamName\", \"home_goal_difference\")\n",
        "\n",
        "# Display the result\n",
        "home_goal_difference_df.show()"
      ],
      "execution_count": 40,
      "outputs": [
        {
          "output_type": "stream",
          "name": "stdout",
          "text": [
            "+-------------------+--------------------+\n",
            "|      home_teamName|home_goal_difference|\n",
            "+-------------------+--------------------+\n",
            "|            Kabylia|                  -2|\n",
            "|             Kernow|                   1|\n",
            "|               Chad|                 -10|\n",
            "|           Provence|                 -17|\n",
            "|             Russia|                 350|\n",
            "|           Paraguay|                 131|\n",
            "|           Anguilla|                 -28|\n",
            "|              Yemen|                 -23|\n",
            "|U.S. Virgin Islands|                 -57|\n",
            "|      South Ossetia|                  -9|\n",
            "|     Chinese Taipei|                  11|\n",
            "|            Senegal|                 198|\n",
            "|             Madrid|                  -1|\n",
            "|             Sweden|                 575|\n",
            "|              Frøya|                  -6|\n",
            "|           Kiribati|                 -63|\n",
            "|           Ynys Môn|                  33|\n",
            "|             Guyana|                  -4|\n",
            "|        Philippines|                  -8|\n",
            "|              Burma|                 187|\n",
            "+-------------------+--------------------+\n",
            "only showing top 20 rows\n",
            "\n"
          ]
        }
      ]
    },
    {
      "cell_type": "markdown",
      "metadata": {
        "id": "747b7b01"
      },
      "source": [
        "## Calculate away goal difference\n",
        "\n",
        "### Subtask:\n",
        "Calculate the goal difference for each team when playing away.\n"
      ]
    },
    {
      "cell_type": "markdown",
      "metadata": {
        "id": "8c02290e"
      },
      "source": [
        "**Reasoning**:\n",
        "Group the DataFrame by away team name, sum the away and home scores, calculate the away goal difference, select the required columns, and store the result in a new DataFrame.\n",
        "\n"
      ]
    },
    {
      "cell_type": "code",
      "metadata": {
        "colab": {
          "base_uri": "https://localhost:8080/"
        },
        "id": "77e95f3f",
        "outputId": "a649ca1c-789c-43e5-cc37-5d00e9c92657"
      },
      "source": [
        "from pyspark.sql.functions import sum\n",
        "\n",
        "# Calculate the goal difference for each team when playing away\n",
        "away_goal_difference_df = df.groupBy(\"away_teamName\") \\\n",
        "    .agg(sum(\"away_scoreAway\").alias(\"total_away_scores\"),\n",
        "         sum(\"home_scoreHome\").alias(\"total_home_scores\")) \\\n",
        "    .withColumn(\"away_goal_difference\", col(\"total_away_scores\") - col(\"total_home_scores\")) \\\n",
        "    .select(\"away_teamName\", \"away_goal_difference\")\n",
        "\n",
        "# Display the result (optional, for verification)\n",
        "away_goal_difference_df.show()"
      ],
      "execution_count": 41,
      "outputs": [
        {
          "output_type": "stream",
          "name": "stdout",
          "text": [
            "+-------------------+--------------------+\n",
            "|      away_teamName|away_goal_difference|\n",
            "+-------------------+--------------------+\n",
            "|            Kabylia|                  -5|\n",
            "|           Provence|                   4|\n",
            "|               Chad|                 -76|\n",
            "|             Kernow|                  11|\n",
            "|             Russia|                 168|\n",
            "|           Paraguay|                -223|\n",
            "|           Anguilla|                -141|\n",
            "|              Yemen|                -261|\n",
            "|U.S. Virgin Islands|                -132|\n",
            "|      South Ossetia|                   9|\n",
            "|     Chinese Taipei|                -198|\n",
            "|            Senegal|                 -22|\n",
            "|             Sweden|                 120|\n",
            "|              Frøya|                 -58|\n",
            "|           Kiribati|                 -56|\n",
            "|       Two Sicilies|                  -6|\n",
            "|           Ynys Môn|                 -10|\n",
            "|             Guyana|                -133|\n",
            "|        Philippines|                -223|\n",
            "|           Asturias|                   2|\n",
            "+-------------------+--------------------+\n",
            "only showing top 20 rows\n",
            "\n"
          ]
        }
      ]
    },
    {
      "cell_type": "markdown",
      "metadata": {
        "id": "e1061531"
      },
      "source": [
        "## Combine goal differences\n",
        "\n",
        "### Subtask:\n",
        "Combine the home and away goal differences for each team.\n"
      ]
    },
    {
      "cell_type": "markdown",
      "metadata": {
        "id": "251af625"
      },
      "source": [
        "**Reasoning**:\n",
        "Combine the home and away goal difference dataframes using an outer join on the team names and fill the null values with 0. Then, display the result.\n",
        "\n"
      ]
    },
    {
      "cell_type": "code",
      "metadata": {
        "colab": {
          "base_uri": "https://localhost:8080/"
        },
        "id": "b9ec2118",
        "outputId": "1f119486-454e-40e4-b439-66e7974aa547"
      },
      "source": [
        "# Perform an outer join on the home and away goal difference DataFrames\n",
        "combined_goal_difference_df = home_goal_difference_df.join(\n",
        "    away_goal_difference_df,\n",
        "    home_goal_difference_df[\"home_teamName\"] == away_goal_difference_df[\"away_teamName\"],\n",
        "    \"outer\"\n",
        ")\n",
        "\n",
        "# Fill null values with 0 and select distinct team names\n",
        "combined_goal_difference_df = combined_goal_difference_df \\\n",
        "    .select(\n",
        "        col(\"home_teamName\").alias(\"teamName\"),\n",
        "        col(\"home_goal_difference\"),\n",
        "        col(\"away_goal_difference\")\n",
        "    ) \\\n",
        "    .fillna(0)\n",
        "\n",
        "# Display the resulting DataFrame\n",
        "combined_goal_difference_df.show()"
      ],
      "execution_count": 42,
      "outputs": [
        {
          "output_type": "stream",
          "name": "stdout",
          "text": [
            "+-------------------+--------------------+--------------------+\n",
            "|           teamName|home_goal_difference|away_goal_difference|\n",
            "+-------------------+--------------------+--------------------+\n",
            "|           Abkhazia|                  25|                  -1|\n",
            "|        Afghanistan|                 -10|                 -90|\n",
            "|            Albania|                  -7|                -212|\n",
            "|           Alderney|                 -22|                 -38|\n",
            "|            Algeria|                 261|                 -83|\n",
            "|     American Samoa|                -116|                -154|\n",
            "|          Andalusia|                  10|                   1|\n",
            "|            Andorra|                -150|                -224|\n",
            "|             Angola|                  98|                 -70|\n",
            "|           Anguilla|                 -28|                -141|\n",
            "|Antigua and Barbuda|                  25|                 -84|\n",
            "|   Arameans Suryoye|                   2|                   2|\n",
            "|          Argentina|                 724|                  71|\n",
            "|            Armenia|                 -35|                -107|\n",
            "|            Artsakh|                   3|                  15|\n",
            "|              Aruba|                 -23|                 -97|\n",
            "|               NULL|                   0|                   2|\n",
            "|          Australia|                 358|                 102|\n",
            "|            Austria|                 266|                -108|\n",
            "|         Azerbaijan|                 -29|                -195|\n",
            "+-------------------+--------------------+--------------------+\n",
            "only showing top 20 rows\n",
            "\n"
          ]
        }
      ]
    },
    {
      "cell_type": "markdown",
      "metadata": {
        "id": "4318acaf"
      },
      "source": [
        "## Calculate total goal difference\n",
        "\n",
        "### Subtask:\n",
        "Calculate the total goal difference for each team.\n"
      ]
    },
    {
      "cell_type": "markdown",
      "metadata": {
        "id": "51fa7348"
      },
      "source": [
        "**Reasoning**:\n",
        "Add a new column named `total_goal_difference` to the `combined_goal_difference_df` DataFrame by summing the values in the `home_goal_difference` and `away_goal_difference` columns for each row, and then display the updated DataFrame.\n",
        "\n"
      ]
    },
    {
      "cell_type": "code",
      "metadata": {
        "colab": {
          "base_uri": "https://localhost:8080/"
        },
        "id": "c8df8476",
        "outputId": "cad0f6b6-d3fb-4861-d8f2-3bd4e9330702"
      },
      "source": [
        "# Add a new column named total_goal_difference\n",
        "combined_goal_difference_df = combined_goal_difference_df.withColumn(\n",
        "    \"total_goal_difference\",\n",
        "    col(\"home_goal_difference\") + col(\"away_goal_difference\")\n",
        ")\n",
        "\n",
        "# Display the updated DataFrame\n",
        "combined_goal_difference_df.show()"
      ],
      "execution_count": 46,
      "outputs": [
        {
          "output_type": "stream",
          "name": "stdout",
          "text": [
            "+-------------------+--------------------+--------------------+---------------------+\n",
            "|           teamName|home_goal_difference|away_goal_difference|total_goal_difference|\n",
            "+-------------------+--------------------+--------------------+---------------------+\n",
            "|           Abkhazia|                  25|                  -1|                   24|\n",
            "|        Afghanistan|                 -10|                 -90|                 -100|\n",
            "|            Albania|                  -7|                -212|                 -219|\n",
            "|           Alderney|                 -22|                 -38|                  -60|\n",
            "|            Algeria|                 261|                 -83|                  178|\n",
            "|     American Samoa|                -116|                -154|                 -270|\n",
            "|          Andalusia|                  10|                   1|                   11|\n",
            "|            Andorra|                -150|                -224|                 -374|\n",
            "|             Angola|                  98|                 -70|                   28|\n",
            "|           Anguilla|                 -28|                -141|                 -169|\n",
            "|Antigua and Barbuda|                  25|                 -84|                  -59|\n",
            "|   Arameans Suryoye|                   2|                   2|                    4|\n",
            "|          Argentina|                 724|                  71|                  795|\n",
            "|            Armenia|                 -35|                -107|                 -142|\n",
            "|            Artsakh|                   3|                  15|                   18|\n",
            "|              Aruba|                 -23|                 -97|                 -120|\n",
            "|               NULL|                   0|                   2|                    2|\n",
            "|          Australia|                 358|                 102|                  460|\n",
            "|            Austria|                 266|                -108|                  158|\n",
            "|         Azerbaijan|                 -29|                -195|                 -224|\n",
            "+-------------------+--------------------+--------------------+---------------------+\n",
            "only showing top 20 rows\n",
            "\n"
          ]
        }
      ]
    },
    {
      "cell_type": "markdown",
      "metadata": {
        "id": "c0fd4495"
      },
      "source": [
        "## Find team with best goal difference\n",
        "\n",
        "### Subtask:\n",
        "Identify and display the team with the highest total goal difference.\n"
      ]
    },
    {
      "cell_type": "markdown",
      "metadata": {
        "id": "c389b53d"
      },
      "source": [
        "**Reasoning**:\n",
        "Ordering the DataFrame by the total goal difference in descending order and selecting the top row will give the team with the highest total goal difference, which directly addresses the subtask.\n",
        "\n"
      ]
    },
    {
      "cell_type": "code",
      "metadata": {
        "colab": {
          "base_uri": "https://localhost:8080/"
        },
        "id": "5105fe49",
        "outputId": "68a3f99f-9055-4c0b-f5be-4f20d07d9dfc"
      },
      "source": [
        "# Order the DataFrame by total_goal_difference in descending order and select the top row\n",
        "team_with_highest_goal_difference = combined_goal_difference_df.orderBy(desc(\"total_goal_difference\")).first()\n",
        "\n",
        "# Print the team name and its total goal difference\n",
        "print(f\"Team with the highest total goal difference: {team_with_highest_goal_difference['teamName']} ({team_with_highest_goal_difference['total_goal_difference']})\")"
      ],
      "execution_count": 44,
      "outputs": [
        {
          "output_type": "stream",
          "name": "stdout",
          "text": [
            "Team with the highest total goal difference: Brazil (1256)\n"
          ]
        }
      ]
    },
    {
      "cell_type": "markdown",
      "metadata": {
        "id": "02b24afa"
      },
      "source": [
        "## Summary:\n",
        "\n",
        "### Data Analysis Key Findings\n",
        "\n",
        "*   The team with the highest total goal difference is Brazil with a total goal difference of 1256.\n",
        "\n",
        "### Insights or Next Steps\n",
        "\n",
        "*   Investigate the distribution of goal differences across all teams to understand the overall competitive landscape.\n",
        "*   Analyze the home and away goal differences separately for top teams to understand if their performance is skewed towards playing at home or away.\n"
      ]
    }
  ]
}